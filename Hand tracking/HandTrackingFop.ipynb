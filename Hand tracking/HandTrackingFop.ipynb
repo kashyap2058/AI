{
 "cells": [
  {
   "cell_type": "code",
   "execution_count": null,
   "metadata": {},
   "outputs": [],
   "source": [
    "import cv2\n",
    "import mediapipe as mp\n",
    "import time\n"
   ]
  },
  {
   "cell_type": "code",
   "execution_count": null,
   "metadata": {},
   "outputs": [],
   "source": [
    "\n",
    "def findpos(results,img,handNo,draw=True):\n",
    "    lmlist=[]\n",
    "    if results.multi_hand_landmarks:\n",
    "        myHand=results.multi_hand_landmarks[handNo]\n",
    "        for id,lm in enumerate(myHand.landmark):\n",
    "                # print(id,landmark)\n",
    "                #TO get pixel values:\n",
    "            h,w,c=img.shape\n",
    "            cx,cy=int(lm.x*w),int(lm.y*h)\n",
    "            lmlist.append([id,cx,cy])\n",
    "            if draw:\n",
    "                   cv2.circle(img,(cx,cy),15,(255,255,0),cv2.FILLED)\n",
    "    return lmlist\n",
    "\n",
    "def findhand(img,handno,hands,mpDraw,draw=True):\n",
    "    imgRGB=cv2.cvtColor(img,cv2.COLOR_BGR2RGB)\n",
    "    results=hands.process(imgRGB)\n",
    "    if results.multi_hand_landmarks:\n",
    "        #extracting informaton about single or multiple handmarks\n",
    "        for handlanmark in results.multi_hand_landmarks:\n",
    "            for handlanmark in results.multi_hand_landmarks:\n",
    "                if draw:\n",
    "                    mpDraw.draw_landmarks(img,handlanmark,mpHands.HAND_CONNECTIONS) #HAND_CONNETIONS draws lines to show hands\n",
    "    return img,results #HAND_CONNETIONS draws lines to show hands\n",
    "\n",
    "prev_time=0\n",
    "cur_time=0\n",
    "cap=cv2.VideoCapture(0)\n",
    "mpHands=mp.solutions.hands\n",
    "hands=mpHands.Hands()\n",
    "mpDraw=mp.solutions.drawing_utils \n",
    "while True:\n",
    "    sucess,img=cap.read()\n",
    "    img,results=findhand(img,0,hands,mpDraw)\n",
    "    lmlist=findpos(results,img,0)\n",
    "    if len(lmlist)!=0:\n",
    "        print(lmlist[4])\n",
    "    cur_time=time.time()\n",
    "    fps=1/(cur_time-prev_time)\n",
    "    prev_time=cur_time\n",
    "    cv2.putText(img,str(int(fps)),(10,70),cv2.FONT_HERSHEY_COMPLEX,2,(0,255,0),3)\n",
    "    cv2.imshow(\"Image \",img)\n",
    "    if cv2.waitKey(1) & 0xFF == ord('q'):\n",
    "        break\n",
    "cap.release()\n",
    "cv2.destroyAllWindows()"
   ]
  }
 ],
 "metadata": {
  "language_info": {
   "name": "python"
  }
 },
 "nbformat": 4,
 "nbformat_minor": 2
}
