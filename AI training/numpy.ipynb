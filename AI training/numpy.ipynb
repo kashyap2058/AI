{
 "cells": [
  {
   "cell_type": "code",
   "execution_count": 4,
   "id": "d4bbfc1c",
   "metadata": {},
   "outputs": [],
   "source": [
    "# numpy is an array used to represent multidimentional array\n",
    "#fullform is numerical python \n"
   ]
  },
  {
   "cell_type": "code",
   "execution_count": 5,
   "id": "c00ab0c4",
   "metadata": {},
   "outputs": [
    {
     "name": "stdout",
     "output_type": "stream",
     "text": [
      "[1 2 3 4 5 6 7 8]\n"
     ]
    }
   ],
   "source": [
    "import numpy as np\n",
    "l=[1,2,3,4,5,6,7,8]\n",
    "a= np.array(l)\n",
    "print(a)"
   ]
  },
  {
   "cell_type": "code",
   "execution_count": 6,
   "id": "25e24119",
   "metadata": {},
   "outputs": [
    {
     "data": {
      "text/plain": [
       "array([11, 13, 15, 17, 19, 21, 23, 25])"
      ]
     },
     "execution_count": 6,
     "metadata": {},
     "output_type": "execute_result"
    }
   ],
   "source": [
    "l=[1,2,3,4,5,6,7,8]\n",
    "a= np.array(l)\n",
    "l1=[10,11,12,13,14,15,16,17]\n",
    "b=np.array(l1)\n",
    "c=a+b #add garna dimension haru same huna parxa\n",
    "c"
   ]
  },
  {
   "cell_type": "code",
   "execution_count": 7,
   "id": "61dca98e",
   "metadata": {},
   "outputs": [
    {
     "name": "stdout",
     "output_type": "stream",
     "text": [
      "[ 6  7  8  9 10 11 12 13]\n"
     ]
    }
   ],
   "source": [
    "print(a+5)"
   ]
  },
  {
   "cell_type": "code",
   "execution_count": 8,
   "id": "d8ad606f",
   "metadata": {},
   "outputs": [
    {
     "name": "stdout",
     "output_type": "stream",
     "text": [
      "[ 5 10 15 20 25 30 35 40]\n"
     ]
    }
   ],
   "source": [
    "print(a*5)"
   ]
  },
  {
   "cell_type": "code",
   "execution_count": 9,
   "id": "ef00cd1c",
   "metadata": {},
   "outputs": [
    {
     "name": "stdout",
     "output_type": "stream",
     "text": [
      "[0.2 0.4 0.6 0.8 1.  1.2 1.4 1.6]\n"
     ]
    }
   ],
   "source": [
    "print(a/5)"
   ]
  },
  {
   "cell_type": "code",
   "execution_count": 11,
   "id": "3f76dcdd",
   "metadata": {},
   "outputs": [
    {
     "data": {
      "text/plain": [
       "(8,)"
      ]
     },
     "execution_count": 11,
     "metadata": {},
     "output_type": "execute_result"
    }
   ],
   "source": [
    "a.shape"
   ]
  },
  {
   "cell_type": "code",
   "execution_count": 15,
   "id": "b58ee553",
   "metadata": {},
   "outputs": [
    {
     "name": "stdout",
     "output_type": "stream",
     "text": [
      "(3, 5)\n",
      "int32\n"
     ]
    }
   ],
   "source": [
    "#for 2d array \n",
    "l1=[[1,2,3,4,5],[6,7,8,9,10],[11,12,13,14,15]]\n",
    "d=np.array(l1)\n",
    "print(d.shape)\n",
    "print(d.dtype)"
   ]
  },
  {
   "cell_type": "code",
   "execution_count": 17,
   "id": "059f7ad9",
   "metadata": {},
   "outputs": [
    {
     "name": "stdout",
     "output_type": "stream",
     "text": [
      "(3, 5, 1)\n"
     ]
    }
   ],
   "source": [
    "#for 3d array\n",
    "l1=[[[1],[2],[3],[4],[5]],[[6],[7],[8],[9],[10]],[[11],[12],[13],[14],[15]]]\n",
    "e=np.array(l1)\n",
    "# print(e)\n",
    "print(e.shape) #(3,5,1) auxa output meaning yesma 3ta rows 5 columns and in each column there are 1 element"
   ]
  },
  {
   "cell_type": "code",
   "execution_count": 22,
   "id": "e511f022",
   "metadata": {},
   "outputs": [
    {
     "name": "stdout",
     "output_type": "stream",
     "text": [
      "(2, 3)\n",
      "[[1 2]\n",
      " [3 4]\n",
      " [5 6]]\n"
     ]
    }
   ],
   "source": [
    "#to reshape an array \n",
    "f=np.array([[1,2,3],[4,5,6]])\n",
    "print(f.shape)\n",
    "print(f.reshape(3,2))"
   ]
  },
  {
   "cell_type": "code",
   "execution_count": 24,
   "id": "113817e6",
   "metadata": {},
   "outputs": [
    {
     "data": {
      "text/plain": [
       "array([1, 2, 3, 4, 5, 6])"
      ]
     },
     "execution_count": 24,
     "metadata": {},
     "output_type": "execute_result"
    }
   ],
   "source": [
    "# sequential/vector data ma convert garda flatten garne\n",
    "f.flatten()"
   ]
  },
  {
   "cell_type": "code",
   "execution_count": 27,
   "id": "c3b7bda4",
   "metadata": {},
   "outputs": [
    {
     "name": "stdout",
     "output_type": "stream",
     "text": [
      "[[ 1  2  3  4  5  6  7  8]\n",
      " [10 11 12 13 14 15 16 17]]\n",
      "[ 1  2  3  4  5  6  7  8 10 11 12 13 14 15 16 17]\n"
     ]
    }
   ],
   "source": [
    "#horizontal stack and verticle stack using hstack and stack:\n",
    "#used to concatinate numpy array (2ta image lai single ma banaune)\n",
    "print(np.vstack((a,b))) #vertically concatinate garxa dimension of matrix in row badauxa\n",
    "print(np.hstack((a,b)))#horizontally stack garxa(column badaune similar to list concatination )"
   ]
  },
  {
   "cell_type": "code",
   "execution_count": null,
   "id": "e469cdc7",
   "metadata": {},
   "outputs": [],
   "source": []
  },
  {
   "cell_type": "code",
   "execution_count": null,
   "id": "632bb2db",
   "metadata": {},
   "outputs": [],
   "source": []
  },
  {
   "cell_type": "code",
   "execution_count": null,
   "id": "73a224db",
   "metadata": {},
   "outputs": [],
   "source": []
  },
  {
   "cell_type": "code",
   "execution_count": 28,
   "id": "87786d65",
   "metadata": {},
   "outputs": [
    {
     "name": "stdout",
     "output_type": "stream",
     "text": [
      "[[0.72503745 0.27978864 0.00965894 0.93802872 0.17430504]\n",
      " [0.123706   0.74110727 0.83132376 0.49290511 0.18726291]\n",
      " [0.48130594 0.55046161 0.43835678 0.92179788 0.38168108]\n",
      " [0.49558742 0.24551888 0.66151831 0.09387677 0.00244475]\n",
      " [0.68246877 0.33488287 0.76482141 0.01147374 0.84473171]]\n"
     ]
    }
   ],
   "source": [
    "#random package (used to generate random matrix or a random numpy array)\n",
    "\n",
    "print(np.random.rand(5,5))"
   ]
  },
  {
   "cell_type": "code",
   "execution_count": 34,
   "id": "781336b0",
   "metadata": {},
   "outputs": [
    {
     "name": "stdout",
     "output_type": "stream",
     "text": [
      "[[1 3 3]\n",
      " [6 6 1]\n",
      " [1 7 0]]\n",
      "NEXT MATRIX:\n",
      "[[ 96 109  99]\n",
      " [ 97 112 120]\n",
      " [ 93 102 109]]\n"
     ]
    }
   ],
   "source": [
    "#to generate random integer matrix\n",
    "# syntax:\n",
    "#     np.random.randint(starting of number to ending, size=[row,column])\n",
    "print(np.random.randint(0,10,size=[3,3]))  #0 dekhi 9 samma ko value halera banauxa\n",
    "print(\"NEXT MATRIX:\")\n",
    "print(np.random.randint(80,121,size=[3,3])) #80 dekhi 120 samma"
   ]
  },
  {
   "cell_type": "code",
   "execution_count": 37,
   "id": "df084af5",
   "metadata": {},
   "outputs": [
    {
     "name": "stdout",
     "output_type": "stream",
     "text": [
      "['a' 'e' 'a' 'u' 'u' 'a' 'u' 'e' 'u' 'e']\n"
     ]
    }
   ],
   "source": [
    "#pick 10 items from a given list with equal probability we use random.choice(Similar to python)\n",
    "print(np.random.choice(['a','e','i','o','u'],size=10))"
   ]
  },
  {
   "cell_type": "code",
   "execution_count": 39,
   "id": "2ed7a98c",
   "metadata": {},
   "outputs": [
    {
     "name": "stdout",
     "output_type": "stream",
     "text": [
      "['a' 'a' 'e' 'o' 'i' 'o' 'a' 'o' 'o' 'o']\n"
     ]
    }
   ],
   "source": [
    "#pick 10 items from a given list with predefined probability \"P\" \n",
    "print(np.random.choice(['a','e','i','o','u'],size=10,p=[0.3,0.1,0.2,0.3,0.1]))"
   ]
  },
  {
   "cell_type": "code",
   "execution_count": 41,
   "id": "fe05da36",
   "metadata": {},
   "outputs": [
    {
     "data": {
      "text/plain": [
       "'106u54135a'"
      ]
     },
     "execution_count": 41,
     "metadata": {},
     "output_type": "execute_result"
    }
   ],
   "source": [
    "#if we have to generate a random word or a key or a password using a e i o u then \n",
    "\"\".join(np.random.choice([1,2,3,4,5,6,7,8,9,0,'a','e','i','o','u'],size=10))"
   ]
  },
  {
   "cell_type": "code",
   "execution_count": 46,
   "id": "14ea5745",
   "metadata": {},
   "outputs": [
    {
     "name": "stdout",
     "output_type": "stream",
     "text": [
      "Minimum value:  1\n",
      "Maximum value:  8\n",
      "Mean value:  4.5\n",
      "median value:  4.5\n",
      "standard deviation value:  2.29128784747792\n"
     ]
    }
   ],
   "source": [
    "a=np.array([1,2,3,4,5,6,7,8])\n",
    "print(\"Minimum value: \",a.min()) #or np.min(a)\n",
    "print(\"Maximum value: \",a.max()) #or np.max(a)\n",
    "print(\"Mean value: \",a.mean()) #or np.mean(a)\n",
    "print(\"median value: \",np.median(a))\n",
    "print(\"standard deviation value: \",np.std(a))"
   ]
  },
  {
   "cell_type": "code",
   "execution_count": null,
   "id": "f1c908a5",
   "metadata": {},
   "outputs": [],
   "source": []
  },
  {
   "cell_type": "code",
   "execution_count": null,
   "id": "7b129152",
   "metadata": {},
   "outputs": [],
   "source": []
  },
  {
   "cell_type": "code",
   "execution_count": 52,
   "id": "991b96ce",
   "metadata": {},
   "outputs": [
    {
     "data": {
      "text/plain": [
       "338.00000000000006"
      ]
     },
     "execution_count": 52,
     "metadata": {},
     "output_type": "execute_result"
    }
   ],
   "source": [
    "#TO calculate DETERMINANT Of a matrix, we use det() function from scipy.linalg module.\n",
    "#linalg le chai linear algebra ko nikalxa\n",
    "\n",
    "import scipy.linalg as slin\n",
    "import numpy as np\n",
    "a=np.array([[3,-4,5],[5,6,-1],[3,4,8]])\n",
    "slin.det(a)"
   ]
  },
  {
   "cell_type": "code",
   "execution_count": 54,
   "id": "3c32a316",
   "metadata": {},
   "outputs": [
    {
     "data": {
      "text/plain": [
       "17"
      ]
     },
     "execution_count": 54,
     "metadata": {},
     "output_type": "execute_result"
    }
   ],
   "source": [
    "#to calculate trace for same matrix a \n",
    "np.trace(a)"
   ]
  },
  {
   "cell_type": "code",
   "execution_count": 55,
   "id": "c38b16c3",
   "metadata": {},
   "outputs": [
    {
     "data": {
      "text/plain": [
       "array([[ 0.15384615,  0.15384615, -0.07692308],\n",
       "       [-0.12721893,  0.02662722,  0.08284024],\n",
       "       [ 0.00591716, -0.07100592,  0.11242604]])"
      ]
     },
     "execution_count": 55,
     "metadata": {},
     "output_type": "execute_result"
    }
   ],
   "source": [
    "#to calculate inverse of a matrix\n",
    "slin.inv(a)"
   ]
  },
  {
   "cell_type": "code",
   "execution_count": 64,
   "id": "a9a94225",
   "metadata": {},
   "outputs": [
    {
     "name": "stdout",
     "output_type": "stream",
     "text": [
      "[[-48]\n",
      " [ 92]\n",
      " [-21]]\n"
     ]
    }
   ],
   "source": [
    "#matrix multiplication \n",
    "MA=np.matrix([[  9, -12,  15],\n",
    "            [ 10,  12,  -2],\n",
    "            [ -3,  -4,  -8]])\n",
    "MB=np.matrix([[3],[5],[-1]])\n",
    "print(MA*MB)"
   ]
  },
  {
   "cell_type": "code",
   "execution_count": null,
   "id": "f4f19e5b",
   "metadata": {},
   "outputs": [],
   "source": []
  }
 ],
 "metadata": {
  "kernelspec": {
   "display_name": "Python 3 (ipykernel)",
   "language": "python",
   "name": "python3"
  },
  "language_info": {
   "codemirror_mode": {
    "name": "ipython",
    "version": 3
   },
   "file_extension": ".py",
   "mimetype": "text/x-python",
   "name": "python",
   "nbconvert_exporter": "python",
   "pygments_lexer": "ipython3",
   "version": "3.10.9"
  }
 },
 "nbformat": 4,
 "nbformat_minor": 5
}
