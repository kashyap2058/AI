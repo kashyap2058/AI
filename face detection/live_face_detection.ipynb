{
 "cells": [
  {
   "cell_type": "code",
   "execution_count": 1,
   "id": "5b426c64",
   "metadata": {},
   "outputs": [],
   "source": [
    "import cv2\n",
    "\n",
    "\n"
   ]
  },
  {
   "cell_type": "code",
   "execution_count": null,
   "id": "98392595",
   "metadata": {},
   "outputs": [],
   "source": []
  },
  {
   "cell_type": "code",
   "execution_count": 2,
   "id": "6f059501",
   "metadata": {},
   "outputs": [],
   "source": [
    "#to draw boundary on face \n",
    "def draw_boundary(img, classifier, scaleFactor, minNeighbors,color,text):\n",
    "    gray=cv2.cvtColor(img,cv2.COLOR_BGR2GRAY)\n",
    "    features=classifier.detectMultiScale(gray,scaleFactor,minNeighbors)\n",
    "    coord=[]\n",
    "\n",
    "    for(x,y,w,h) in features:\n",
    "        cv2.rectangle(img,(x,y),(x+w,y+h),color,2)\n",
    "        cv2.putText(img,text,(x,y-4),cv2.FONT_HERSHEY_COMPLEX,0.8,color,1,cv2.LINE_AA)\n",
    "        coord=[x,y,w,h]\n",
    "    return coord,img\n",
    "\n",
    "def detect(img,faceCascade):\n",
    "    color={'blue':(255,0,0),'red':(0,0,255), 'green':(0,255,0)} \n",
    "    coord,img=draw_boundary(img,faceCascade,1.1,10,color['red'],\"Face\")\n",
    "    return img\n",
    "\n"
   ]
  },
  {
   "cell_type": "code",
   "execution_count": 3,
   "id": "954ae502",
   "metadata": {},
   "outputs": [],
   "source": [
    "faceCascade=cv2.CascadeClassifier('haarcascade_frontalface_alt.xml')"
   ]
  },
  {
   "cell_type": "code",
   "execution_count": 4,
   "id": "93e45139",
   "metadata": {},
   "outputs": [],
   "source": [
    "video_capture=cv2.VideoCapture(0)\n",
    "\n",
    "while(1):\n",
    "    _, img=video_capture.read() #we will only use image so we have declared starting parameter as _ jun chaidaina \n",
    "    img=detect(img,faceCascade)\n",
    "    cv2.imshow(\"Face Detection\",img)\n",
    "    #to exit the loop whenever we press 'q'\n",
    "    if cv2.waitKey(1) & 0xFF == ord('q'):\n",
    "        break\n",
    "video_capture.release()\n",
    "cv2.destroyAllWindows()"
   ]
  },
  {
   "cell_type": "code",
   "execution_count": null,
   "id": "d02081a0",
   "metadata": {},
   "outputs": [],
   "source": []
  }
 ],
 "metadata": {
  "kernelspec": {
   "display_name": "Python 3 (ipykernel)",
   "language": "python",
   "name": "python3"
  },
  "language_info": {
   "codemirror_mode": {
    "name": "ipython",
    "version": 3
   },
   "file_extension": ".py",
   "mimetype": "text/x-python",
   "name": "python",
   "nbconvert_exporter": "python",
   "pygments_lexer": "ipython3",
   "version": "3.11.4"
  }
 },
 "nbformat": 4,
 "nbformat_minor": 5
}
